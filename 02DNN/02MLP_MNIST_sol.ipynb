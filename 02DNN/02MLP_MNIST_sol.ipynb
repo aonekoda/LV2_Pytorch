{
 "cells": [
  {
   "cell_type": "markdown",
   "metadata": {},
   "source": [
    "# Neural networks with PyTorch\n",
    "\n",
    "Deep learning networks 은 매우 많은 layer를 쌓아서 구성한다. 그래서 \"deep\"이라는 용어가 의미하는 바이기도 하다. PyTorch 에서는 `nn` module 을 사용하여 매우 커다란 neural network도 손쉽게 구현할 수 있는 기능을 제공한다."
   ]
  },
  {
   "cell_type": "code",
   "execution_count": 1,
   "metadata": {},
   "outputs": [],
   "source": [
    "# Import necessary packages\n",
    "\n",
    "%matplotlib inline\n",
    "%config InlineBackend.figure_format = 'retina'\n",
    "\n",
    "import numpy as np\n",
    "import torch\n",
    "\n",
    "import matplotlib.pyplot as plt"
   ]
  },
  {
   "cell_type": "markdown",
   "metadata": {},
   "source": [
    "\n",
    "MNIST dataset은 손으로 씌여진 greyscale 숫자 이미지 데이터 이다. 각 이미지는 28x28 pixels 크기이다.\n",
    "![img](../assets/mnist.png)\n",
    "\n",
    "\n",
    "우리의 목표는 neural network 를 구성하여 손글씨 숫자를 인식하는/분류하는 모형을 생성하는 것이다.\n",
    "\n",
    "맨 먼저 dataset을 다운로드하고 dataloder를 통해 읽어 들여야 한다. 이 데이터셋은 `torchvision` package를 통해 다운로드 가능하다. 아래 코드를 사용하여 training과 test datasets 을 다운로드 받을 수 있다. 여기서는 상세한 내용보다는 간단하게 모형을 구현하기 위한 기본적인 사항을 실습하도록 한다."
   ]
  },
  {
   "cell_type": "code",
   "execution_count": 2,
   "metadata": {},
   "outputs": [
    {
     "name": "stderr",
     "output_type": "stream",
     "text": [
      "C:\\Users\\aoneko\\anaconda3\\lib\\site-packages\\torchvision\\datasets\\mnist.py:498: UserWarning: The given NumPy array is not writeable, and PyTorch does not support non-writeable tensors. This means you can write to the underlying (supposedly non-writeable) NumPy array using the tensor. You may want to copy the array to protect its data or make it writeable before converting it to a tensor. This type of warning will be suppressed for the rest of this program. (Triggered internally at  ..\\torch\\csrc\\utils\\tensor_numpy.cpp:180.)\n",
      "  return torch.from_numpy(parsed.astype(m[2], copy=False)).view(*s)\n"
     ]
    }
   ],
   "source": [
    "### Run this cell\n",
    "\n",
    "from torchvision import datasets, transforms\n",
    "\n",
    "# Define a transform to normalize the data\n",
    "transform = transforms.Compose([transforms.ToTensor(),\n",
    "                              transforms.Normalize((0.5,), (0.5,)),\n",
    "                              ])\n",
    "# Download and load the training data\n",
    "trainset = datasets.MNIST('../data', download=True, train=True, transform=transform)\n",
    "trainloader = torch.utils.data.DataLoader(trainset, batch_size=64, shuffle=True)"
   ]
  },
  {
   "cell_type": "code",
   "execution_count": 3,
   "metadata": {},
   "outputs": [
    {
     "name": "stdout",
     "output_type": "stream",
     "text": [
      "Number of training data :  60000\n"
     ]
    }
   ],
   "source": [
    "print(\"Number of training data : \", len(trainset))"
   ]
  },
  {
   "cell_type": "markdown",
   "metadata": {},
   "source": [
    "training data 를 `trainloader`로 읽어 들인다. 읽어들인 dataloader는 `iter(trainloader)` 명령어를 사용하여 iterator로 읽을 수 있다. iterator는 다음과 같은 for문을 통해 수행될 수 있다.\n",
    "\n",
    "```python\n",
    "for image, label in trainloader:\n",
    "    ## do things with images and labels\n",
    "```\n",
    "\n",
    "`trainloader`의 batch size는 64이다. 이것은 한번에 읽을때 64개의 데이터를 읽어 들인다는 것이다. `shuffle=True`는 매번 data를 추출할 때 섞는다는 것이다.  따라서 `images`의 tensor size `(64, 1, 28, 28)`가 된다. 매 batch 마다 64 images 를 읽어 들이는데 각 1 color channel에 28x28 images이다."
   ]
  },
  {
   "cell_type": "code",
   "execution_count": 3,
   "metadata": {},
   "outputs": [
    {
     "name": "stdout",
     "output_type": "stream",
     "text": [
      "<class 'torch.Tensor'>\n",
      "torch.Size([64, 1, 28, 28])\n",
      "torch.Size([64])\n"
     ]
    }
   ],
   "source": [
    "dataiter = iter(trainloader)\n",
    "images, labels = dataiter.next()\n",
    "print(type(images))\n",
    "print(images.shape)\n",
    "print(labels.shape)"
   ]
  },
  {
   "cell_type": "markdown",
   "metadata": {},
   "source": [
    "읽어 들인 데이터 중 하나를 출력해 보자."
   ]
  },
  {
   "cell_type": "code",
   "execution_count": 4,
   "metadata": {},
   "outputs": [
    {
     "data": {
      "image/png": "[encoded data removed]",
      "text/plain": [
       "<Figure size 432x288 with 1 Axes>"
      ]
     },
     "metadata": {
      "image/png": {
       "height": 248,
       "width": 251
      },
      "needs_background": "light"
     },
     "output_type": "display_data"
    }
   ],
   "source": [
    "plt.imshow(images[1].numpy().squeeze(), cmap='Greys_r');"
   ]
  },
  {
   "cell_type": "markdown",
   "metadata": {},
   "source": [
    "**weight matrices 와 matrix multiplications을 활용해 일단 simple network 를 구현해 보자.** 그리고 뒷쪽에서 PyTorch의 `nn` module 을 사용하여 network architectures를 구성해 보자.\n",
    "\n",
    "이러한 networks를 *fully-connected* 또는 *dense* networks이라고 부른다. images 는 28x28 2D tensors이다.fully connected network은 1D vectors을 입력으로 받는다. 따라서 batch images의 shape `(64, 1, 28, 28)` 를  `(64, 784)`로 변경하여야 한다. 784 는 28 * 28 이다. 이것을 *flattening* 이라고 한다. 즉  2D images를 1D vectors 로 변환하는 과정이다.\n",
    "\n",
    "이 모형에서는 10 output units을 사용한다.\n",
    "\n",
    "0에서 9까지의 숫자로 총 출력값은 10개 이다.각 이미지를 처리하여 출력으로 해당 이미지가 어떤 클래스에 속하는지 분류하기 위해서 확률값을 출력한다. 즉 확률값이 이 이미지가 어떤 클래스에 속하는지 나타낸다. \n",
    "\n",
    "> **실습 :** batch 의 images `images`를 입력으로 처리하기 위해 flatten한다. 그리고 multi-layer network의 입력으로 784 input units, 256 hidden units, 그리고 10개 output units 으로 구성한다. weights 와 bias는 random값으로 초기화한다. sigmoid를 activation로 한다. output layer는 일단 activation를 적용하지 않는다. 뒤에서 softmax로 구현한다."
   ]
  },
  {
   "cell_type": "code",
   "execution_count": 6,
   "metadata": {},
   "outputs": [],
   "source": [
    "## Solution\n",
    "def activation(x):\n",
    "    return 1/(1+torch.exp(-x))\n",
    "\n",
    "# Flatten the input images\n",
    "inputs = images.view(images.shape[0], -1)\n",
    "\n",
    "# Create parameters\n",
    "w1 = torch.randn(784, 256)\n",
    "b1 = torch.randn(256)\n",
    "\n",
    "w2 = torch.randn(256, 10)\n",
    "b2 = torch.randn(10)\n",
    "\n",
    "h = activation(torch.mm(inputs, w1) + b1)\n",
    "\n",
    "out = torch.mm(h, w2) + b2"
   ]
  },
  {
   "cell_type": "markdown",
   "metadata": {},
   "source": [
    "최종 output layer의 활성화 함수는 [**softmax** function](https://en.wikipedia.org/wiki/Softmax_function)를 사용한다. 수식으로 표현하면 다음과 같다.\n",
    "\n",
    "$$\n",
    "\\Large \\sigma(x_i) = \\cfrac{e^{x_i}}{\\sum_k^K{e^{x_k}}}\n",
    "$$\n",
    "\n",
    "이 소프트맥스 함수는 입력받은 값을 출력으로 0~1사이의 값으로 모두 정규화하며 출력 값들의 총합은 항상 1이 되는 특성을 가진 함수이다.  \n",
    "\n",
    "분류하고 싶은 클래수의 수 만큼 출력으로 구성한다. 가장 큰 출력 값을 부여받은 클래스가 확률이 가장 높은 것으로 이용된다.\n",
    "\n",
    "> **실습 :** `softmax` 함수를 구현한다. 연산시 shapes에 주의하도록 한다. 만약 tensor `a` 의 shape `(64, 10)` 이고 tensor `b`의 shape `(64,)`일 때 `a/b` 를 수행하면 error 난다. 왜냐면 size mismatch 때문이다. 따라서 `b` 의 shape 는 `(64, 1)`이 되어야 한다. `torch.sum` 에서 `dim` keyword 를 사용하는데 `dim=1` 을 사용하면  column끼리의 합을 계산한다."
   ]
  },
  {
   "cell_type": "code",
   "execution_count": 7,
   "metadata": {},
   "outputs": [
    {
     "name": "stdout",
     "output_type": "stream",
     "text": [
      "torch.Size([64, 10])\n",
      "tensor([1.0000, 1.0000, 1.0000, 1.0000, 1.0000, 1.0000, 1.0000, 1.0000, 1.0000,\n",
      "        1.0000, 1.0000, 1.0000, 1.0000, 1.0000, 1.0000, 1.0000, 1.0000, 1.0000,\n",
      "        1.0000, 1.0000, 1.0000, 1.0000, 1.0000, 1.0000, 1.0000, 1.0000, 1.0000,\n",
      "        1.0000, 1.0000, 1.0000, 1.0000, 1.0000, 1.0000, 1.0000, 1.0000, 1.0000,\n",
      "        1.0000, 1.0000, 1.0000, 1.0000, 1.0000, 1.0000, 1.0000, 1.0000, 1.0000,\n",
      "        1.0000, 1.0000, 1.0000, 1.0000, 1.0000, 1.0000, 1.0000, 1.0000, 1.0000,\n",
      "        1.0000, 1.0000, 1.0000, 1.0000, 1.0000, 1.0000, 1.0000, 1.0000, 1.0000,\n",
      "        1.0000])\n"
     ]
    }
   ],
   "source": [
    "## Solution\n",
    "def softmax(x):\n",
    "    return torch.exp(x)/torch.sum(torch.exp(x), dim=1).view(-1, 1)\n",
    "\n",
    "probabilities = softmax(out)\n",
    "\n",
    "# Does it have the right shape? Should be (64, 10)\n",
    "print(probabilities.shape)\n",
    "# Does it sum to 1?\n",
    "print(probabilities.sum(dim=1))"
   ]
  },
  {
   "cell_type": "markdown",
   "metadata": {},
   "source": [
    "## Building networks with PyTorch\n",
    "\n",
    "PyTorch 는  `nn` 모듈을 제공하는데 이를 사용하면 networks를 매우 쉽게 구성할 수 있다.  784 inputs과 256 hidden units 그리고 10 output units 을 가지고 최종 layer의 활성화 함수는 softmax output로 구성해 보자."
   ]
  },
  {
   "cell_type": "code",
   "execution_count": 8,
   "metadata": {},
   "outputs": [],
   "source": [
    "from torch import nn"
   ]
  },
  {
   "cell_type": "code",
   "execution_count": 9,
   "metadata": {},
   "outputs": [],
   "source": [
    "class Network(nn.Module):\n",
    "    def __init__(self):\n",
    "        super().__init__()\n",
    "        \n",
    "        # Inputs to hidden layer linear transformation\n",
    "        self.hidden = nn.Linear(784, 256)\n",
    "        # Output layer, 10 units - one for each digit\n",
    "        self.output = nn.Linear(256, 10)\n",
    "        \n",
    "        # Define sigmoid activation and softmax output \n",
    "        self.sigmoid = nn.Sigmoid()\n",
    "        self.softmax = nn.Softmax(dim=1)\n",
    "        \n",
    "    def forward(self, x):\n",
    "        # Pass the input tensor through each of our operations\n",
    "        x = self.hidden(x)\n",
    "        x = self.sigmoid(x)\n",
    "        x = self.output(x)\n",
    "        x = self.softmax(x)\n",
    "        \n",
    "        return x"
   ]
  },
  {
   "cell_type": "markdown",
   "metadata": {},
   "source": [
    "하나씩 살펴보자.\n",
    "\n",
    "```python\n",
    "class Network(nn.Module):\n",
    "```\n",
    "\n",
    "반드시 `nn.Module`을 상속하여야 한다. 필수적으로 `super().__init__()`로 부모의 생성자를 호출한다. \n",
    "\n",
    "```python\n",
    "self.hidden = nn.Linear(784, 256)\n",
    "```\n",
    "\n",
    "위의 코드는 linear transformation을 수행하는데 수식으로 표현하면, $x\\mathbf{W} + b$이다. 784 inputs 과 256 outputs 가 `self.hidden` layer에 할당된다. 이 module 은 자동으로 weight와 bias tensors를 초기화한다.  `net.hidden.weight` 와 `net.hidden.bias`로 확인할 수 있다.\n",
    "\n",
    "```python\n",
    "self.output = nn.Linear(256, 10)\n",
    "```\n",
    "\n",
    "유사하게 output layer는 256 inputs 과 10 outputs으로 구성한다.\n",
    "\n",
    "```python\n",
    "self.sigmoid = nn.Sigmoid()\n",
    "self.softmax = nn.Softmax(dim=1)\n",
    "```\n",
    "\n",
    "sigmoid activation 와 softmax output를 구성한다.`nn.Softmax(dim=1)`으로 columns에 대해서 계산한다.\n",
    "\n",
    "```python\n",
    "def forward(self, x):\n",
    "```\n",
    "\n",
    "반드시 필수적으로 `forward` method 를 구현해야 한다. tensor `x`를 받아서 `__init__` method로 forward pass를 진행한다.\n",
    "\n",
    "```python\n",
    "x = self.hidden(x)\n",
    "x = self.sigmoid(x)\n",
    "x = self.output(x)\n",
    "x = self.softmax(x)\n",
    "```\n",
    "\n",
    "input tensor `x` 는 순서대로 forward pass를 통과한다.  \n",
    "\n",
    "**input tensor-->hidden laye-->sigmoid function--> output layer-->softmax function**  \n",
    "`__init__` method의 정의 순서와 상관없이  `forward` method의 순서대로 수행된다.\n",
    "\n",
    "`Network` object를 생성한다."
   ]
  },
  {
   "cell_type": "code",
   "execution_count": 10,
   "metadata": {},
   "outputs": [
    {
     "data": {
      "text/plain": [
       "Network(\n",
       "  (hidden): Linear(in_features=784, out_features=256, bias=True)\n",
       "  (output): Linear(in_features=256, out_features=10, bias=True)\n",
       "  (sigmoid): Sigmoid()\n",
       "  (softmax): Softmax(dim=1)\n",
       ")"
      ]
     },
     "execution_count": 10,
     "metadata": {},
     "output_type": "execute_result"
    }
   ],
   "source": [
    "# Create the network and look at it's text representation\n",
    "model = Network()\n",
    "model"
   ]
  },
  {
   "cell_type": "markdown",
   "metadata": {},
   "source": [
    "보통은 `torch.nn.functional` module을 사용하여 forward pass를 구현한다.\n",
    "`import torch.nn.functional as F`."
   ]
  },
  {
   "cell_type": "code",
   "execution_count": 11,
   "metadata": {},
   "outputs": [],
   "source": [
    "import torch.nn.functional as F\n",
    "\n",
    "class Network(nn.Module):\n",
    "    def __init__(self):\n",
    "        super().__init__()\n",
    "        # Inputs to hidden layer linear transformation\n",
    "        self.hidden = nn.Linear(784, 256)\n",
    "        # Output layer, 10 units - one for each digit\n",
    "        self.output = nn.Linear(256, 10)\n",
    "        \n",
    "    def forward(self, x):\n",
    "        # Hidden layer with sigmoid activation\n",
    "        x = F.sigmoid(self.hidden(x))\n",
    "        # Output layer with softmax activation\n",
    "        x = F.softmax(self.output(x), dim=1)\n",
    "        \n",
    "        return x"
   ]
  },
  {
   "cell_type": "markdown",
   "metadata": {},
   "source": [
    "### Activation functions\n",
    "\n",
    "가장 많이 사용되는 activation functions: Tanh (hyperbolic tangent), and ReLU (rectified linear unit).\n",
    "\n",
    "![img](../assets/activation.png)\n",
    "\n",
    "주로 **ReLU function** 이 hidden layers의 activation function으로 사용된다."
   ]
  },
  {
   "cell_type": "markdown",
   "metadata": {},
   "source": [
    "### Your Turn to Build a Network\n",
    "\n",
    "![img](../assets/mlp_mnist.png)\n",
    "\n",
    "> **실습 :**  784 input units-->128  hidden layer units -->ReLU activation-->hidden layer 64 units-->ReLU activation-->output layer --> softmax activation  \n",
    "ReLU activation 은 `nn.ReLU` module 또는 `F.relu` function 로 구성한다.  \n",
    "fully-connected layer의 이름은 `fc1`, `fc2`, `fc3` 로 한다."
   ]
  },
  {
   "cell_type": "code",
   "execution_count": 12,
   "metadata": {
    "scrolled": true
   },
   "outputs": [
    {
     "data": {
      "text/plain": [
       "Network(\n",
       "  (fc1): Linear(in_features=784, out_features=128, bias=True)\n",
       "  (fc2): Linear(in_features=128, out_features=64, bias=True)\n",
       "  (fc3): Linear(in_features=64, out_features=10, bias=True)\n",
       ")"
      ]
     },
     "execution_count": 12,
     "metadata": {},
     "output_type": "execute_result"
    }
   ],
   "source": [
    "## Solution\n",
    "\n",
    "class Network(nn.Module):\n",
    "    def __init__(self):\n",
    "        super().__init__()\n",
    "        # Defining the layers, 128, 64, 10 units each\n",
    "        self.fc1 = nn.Linear(784, 128)\n",
    "        self.fc2 = nn.Linear(128, 64)\n",
    "        # Output layer, 10 units - one for each digit\n",
    "        self.fc3 = nn.Linear(64, 10)\n",
    "        \n",
    "    def forward(self, x):\n",
    "        ''' Forward pass through the network, returns the output logits '''\n",
    "        \n",
    "        x = self.fc1(x)\n",
    "        x = F.relu(x)\n",
    "        x = self.fc2(x)\n",
    "        x = F.relu(x)\n",
    "        x = self.fc3(x)\n",
    "        x = F.softmax(x, dim=1)\n",
    "        \n",
    "        return x\n",
    "\n",
    "model = Network()\n",
    "model"
   ]
  },
  {
   "cell_type": "markdown",
   "metadata": {},
   "source": [
    "### Initializing weights and biases\n",
    "\n",
    "자동으로 weights와 bias는 초기화 된다. `model.fc1.weight` 로 확인 가능하다."
   ]
  },
  {
   "cell_type": "code",
   "execution_count": 13,
   "metadata": {},
   "outputs": [
    {
     "name": "stdout",
     "output_type": "stream",
     "text": [
      "Parameter containing:\n",
      "tensor([[-0.0233,  0.0205,  0.0347,  ..., -0.0005, -0.0204,  0.0126],\n",
      "        [ 0.0144, -0.0083,  0.0318,  ..., -0.0288, -0.0311,  0.0010],\n",
      "        [-0.0019, -0.0260, -0.0310,  ...,  0.0027, -0.0311,  0.0322],\n",
      "        ...,\n",
      "        [-0.0140, -0.0002, -0.0236,  ..., -0.0110,  0.0062, -0.0046],\n",
      "        [ 0.0123,  0.0039, -0.0035,  ...,  0.0308, -0.0185, -0.0302],\n",
      "        [-0.0013,  0.0170,  0.0071,  ..., -0.0032,  0.0180, -0.0055]],\n",
      "       requires_grad=True)\n",
      "Parameter containing:\n",
      "tensor([ 0.0272, -0.0223,  0.0249, -0.0099,  0.0057,  0.0235, -0.0341, -0.0074,\n",
      "         0.0321,  0.0134, -0.0233, -0.0112,  0.0170,  0.0020, -0.0178, -0.0185,\n",
      "         0.0238,  0.0254, -0.0137, -0.0333,  0.0191, -0.0222,  0.0062, -0.0179,\n",
      "        -0.0329, -0.0239,  0.0319, -0.0068, -0.0226,  0.0198,  0.0065, -0.0053,\n",
      "         0.0249,  0.0357,  0.0272,  0.0191, -0.0191, -0.0088, -0.0247, -0.0006,\n",
      "        -0.0087,  0.0058,  0.0261,  0.0133,  0.0010, -0.0030, -0.0305,  0.0188,\n",
      "         0.0010, -0.0008, -0.0135, -0.0152,  0.0291,  0.0137, -0.0327,  0.0050,\n",
      "        -0.0276, -0.0297, -0.0350,  0.0029, -0.0086,  0.0095,  0.0322, -0.0333,\n",
      "         0.0066,  0.0244, -0.0176, -0.0307, -0.0216, -0.0190,  0.0143, -0.0168,\n",
      "         0.0051, -0.0058, -0.0069,  0.0190,  0.0086,  0.0124,  0.0325, -0.0161,\n",
      "         0.0247,  0.0164, -0.0170,  0.0297,  0.0026,  0.0296,  0.0153,  0.0029,\n",
      "        -0.0125, -0.0269,  0.0345,  0.0286,  0.0035, -0.0101, -0.0048, -0.0017,\n",
      "         0.0309,  0.0339,  0.0100,  0.0244, -0.0223, -0.0017, -0.0004,  0.0206,\n",
      "        -0.0042, -0.0295, -0.0011, -0.0267,  0.0252,  0.0055, -0.0140,  0.0284,\n",
      "        -0.0072, -0.0245,  0.0174, -0.0322,  0.0334, -0.0063,  0.0020, -0.0153,\n",
      "        -0.0210,  0.0301,  0.0057, -0.0296,  0.0316, -0.0084, -0.0005,  0.0173],\n",
      "       requires_grad=True)\n"
     ]
    }
   ],
   "source": [
    "print(model.fc1.weight)\n",
    "print(model.fc1.bias)"
   ]
  },
  {
   "cell_type": "markdown",
   "metadata": {},
   "source": [
    "### Forward pass\n",
    "\n",
    "forward pass를 적용하여 결과를 확인해 보자."
   ]
  },
  {
   "cell_type": "code",
   "execution_count": 14,
   "metadata": {},
   "outputs": [],
   "source": [
    "# Grab some data \n",
    "dataiter = iter(trainloader)\n",
    "images, labels = dataiter.next()\n",
    "\n",
    "# Resize images into a 1D vector, new shape is (batch size, color channels, image pixels) \n",
    "images.resize_(64, 1, 784)\n",
    "# or images.resize_(images.shape[0], 1, 784) to automatically get batch size\n",
    "\n",
    "# Forward pass through the network\n",
    "img_idx = 0\n",
    "ps = model.forward(images[img_idx,:])"
   ]
  },
  {
   "cell_type": "markdown",
   "metadata": {},
   "source": [
    "결과를 시각화하기 위한 보조 함수를 만들어 보자."
   ]
  },
  {
   "cell_type": "code",
   "execution_count": 15,
   "metadata": {},
   "outputs": [],
   "source": [
    "def view_classify(img, ps):\n",
    "    ''' Function for viewing an image and it's predicted classes.\n",
    "    '''\n",
    "    ps = ps.data.numpy().squeeze()\n",
    "\n",
    "    fig, (ax1, ax2) = plt.subplots(figsize=(6,9), ncols=2)\n",
    "    ax1.imshow(img.resize_(1, 28, 28).numpy().squeeze())\n",
    "    ax1.axis('off')\n",
    "    ax2.barh(np.arange(10), ps)\n",
    "    ax2.set_aspect(0.1)\n",
    "    ax2.set_yticks(np.arange(10))\n",
    "    \n",
    "    ax2.set_yticklabels(np.arange(10))\n",
    "    \n",
    "    ax2.set_title('Class Probability')\n",
    "    ax2.set_xlim(0, 1.1)\n",
    "\n",
    "    plt.tight_layout()"
   ]
  },
  {
   "cell_type": "code",
   "execution_count": 16,
   "metadata": {},
   "outputs": [
    {
     "data": {
      "image/png": "[encoded data removed]",
      "text/plain": [
       "<Figure size 432x648 with 2 Axes>"
      ]
     },
     "metadata": {
      "image/png": {
       "height": 235,
       "width": 424
      },
      "needs_background": "light"
     },
     "output_type": "display_data"
    }
   ],
   "source": [
    "img = images[img_idx]\n",
    "view_classify(img.view(1, 28, 28), ps)"
   ]
  },
  {
   "cell_type": "markdown",
   "metadata": {},
   "source": [
    "당연하게도 결과가 제대로 나오지 않는다! 모형의 훈련이 되지 않았기 때문이다.\n",
    "\n",
    "### Using `nn.Sequential`\n",
    "\n",
    "PyTorch는 networks 손쉽게 구현하기 위해 `nn.Sequential` ([documentation](https://pytorch.org/docs/master/nn.html#torch.nn.Sequential))을 제공한다."
   ]
  },
  {
   "cell_type": "code",
   "execution_count": 17,
   "metadata": {},
   "outputs": [
    {
     "name": "stdout",
     "output_type": "stream",
     "text": [
      "Sequential(\n",
      "  (0): Linear(in_features=784, out_features=128, bias=True)\n",
      "  (1): ReLU()\n",
      "  (2): Linear(in_features=128, out_features=64, bias=True)\n",
      "  (3): ReLU()\n",
      "  (4): Linear(in_features=64, out_features=10, bias=True)\n",
      "  (5): Softmax(dim=1)\n",
      ")\n"
     ]
    },
    {
     "data": {
      "image/png": "[encoded data removed]",
      "text/plain": [
       "<Figure size 432x648 with 2 Axes>"
      ]
     },
     "metadata": {
      "image/png": {
       "height": 235,
       "width": 424
      },
      "needs_background": "light"
     },
     "output_type": "display_data"
    }
   ],
   "source": [
    "# Hyperparameters for our network\n",
    "input_size = 784\n",
    "hidden_sizes = [128, 64]\n",
    "output_size = 10\n",
    "\n",
    "# Build a feed-forward network\n",
    "model = nn.Sequential(nn.Linear(input_size, hidden_sizes[0]),\n",
    "                      nn.ReLU(),\n",
    "                      nn.Linear(hidden_sizes[0], hidden_sizes[1]),\n",
    "                      nn.ReLU(),\n",
    "                      nn.Linear(hidden_sizes[1], output_size),\n",
    "                      nn.Softmax(dim=1))\n",
    "print(model)\n",
    "\n",
    "# Forward pass through the network and display output\n",
    "images, labels = next(iter(trainloader))\n",
    "images.resize_(images.shape[0], 1, 784)\n",
    "ps = model.forward(images[0,:])\n",
    "view_classify(images[0].view(1, 28, 28), ps)"
   ]
  },
  {
   "cell_type": "markdown",
   "metadata": {},
   "source": [
    "모형의 각 layer는 `model[0]` 처럼 번호로 access 된다."
   ]
  },
  {
   "cell_type": "code",
   "execution_count": 18,
   "metadata": {
    "scrolled": true
   },
   "outputs": [
    {
     "name": "stdout",
     "output_type": "stream",
     "text": [
      "Linear(in_features=784, out_features=128, bias=True)\n"
     ]
    },
    {
     "data": {
      "text/plain": [
       "Parameter containing:\n",
       "tensor([[ 0.0209,  0.0255, -0.0099,  ...,  0.0266, -0.0229, -0.0150],\n",
       "        [ 0.0090, -0.0303, -0.0047,  ..., -0.0059,  0.0276, -0.0220],\n",
       "        [-0.0298, -0.0220, -0.0159,  ...,  0.0296, -0.0289,  0.0262],\n",
       "        ...,\n",
       "        [ 0.0050, -0.0194, -0.0158,  ...,  0.0121,  0.0144,  0.0161],\n",
       "        [ 0.0340,  0.0113, -0.0154,  ...,  0.0167,  0.0292, -0.0087],\n",
       "        [-0.0239, -0.0267, -0.0132,  ..., -0.0247, -0.0282, -0.0336]],\n",
       "       requires_grad=True)"
      ]
     },
     "execution_count": 18,
     "metadata": {},
     "output_type": "execute_result"
    }
   ],
   "source": [
    "print(model[0])\n",
    "model[0].weight"
   ]
  },
  {
   "cell_type": "code",
   "execution_count": null,
   "metadata": {},
   "outputs": [],
   "source": []
  }
 ],
 "metadata": {
  "kernelspec": {
   "display_name": "Python 3",
   "language": "python",
   "name": "python3"
  },
  "language_info": {
   "codemirror_mode": {
    "name": "ipython",
    "version": 3
   },
   "file_extension": ".py",
   "mimetype": "text/x-python",
   "name": "python",
   "nbconvert_exporter": "python",
   "pygments_lexer": "ipython3",
   "version": "3.8.8"
  }
 },
 "nbformat": 4,
 "nbformat_minor": 2
}
